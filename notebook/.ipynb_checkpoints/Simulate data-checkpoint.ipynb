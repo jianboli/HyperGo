{
 "cells": [
  {
   "cell_type": "markdown",
   "metadata": {},
   "source": [
    "# Data structure"
   ]
  },
  {
   "cell_type": "markdown",
   "metadata": {},
   "source": [
    "This file simuate the data, and generate the following files:\n",
    "\n",
    "1. order_no.pkl: a list of IDs of baskets with length $n$ - nodes\n",
    "2. style_color.pkl: a list of IDs of products with length $m$ - hyper edges\n",
    "3. h_mat.pkl: H matrix denotes the hypergrah. It is a scipy.sparse.csr.csr_matrix with shape $n\\times m$\n",
    "4. r_mat.pkl: return matrix denotes which product is returned. Its shape is the same as H matrix. It follows the constrain of $R_{i,j}\\le H_{i,j}$, i.e. a return can only happen after a purchase.\n"
   ]
  },
  {
   "cell_type": "code",
   "execution_count": 19,
   "metadata": {
    "collapsed": true
   },
   "outputs": [],
   "source": [
    "import numpy as np\n",
    "import matplotlib.pylab as plt\n",
    "import scipy.sparse as sparse\n",
    "from scipy.stats import truncnorm \n",
    "import pickle\n",
    "\n",
    "%matplotlib inline"
   ]
  },
  {
   "cell_type": "markdown",
   "metadata": {},
   "source": [
    "# Control parameters"
   ]
  },
  {
   "cell_type": "code",
   "execution_count": 28,
   "metadata": {},
   "outputs": [],
   "source": [
    "m = 10000\n",
    "n = 6000\n",
    "\n",
    "purchase_rate = 3.6\n",
    "\n",
    "single_baskets = 20342\n",
    "mult_baskets = n - single_baskets\n"
   ]
  },
  {
   "cell_type": "markdown",
   "metadata": {},
   "source": [
    "# Simulation"
   ]
  },
  {
   "cell_type": "code",
   "execution_count": 29,
   "metadata": {},
   "outputs": [
    {
     "data": {
      "text/plain": [
       "(array([ 628.,  664.,  680.,  673.,  695.,  694.,  653.,  677.,  706.,\n",
       "        3930.]),\n",
       " array([2.86239458e-04, 1.00257616e-01, 2.00228992e-01, 3.00200368e-01,\n",
       "        4.00171744e-01, 5.00143120e-01, 6.00114496e-01, 7.00085872e-01,\n",
       "        8.00057248e-01, 9.00028624e-01, 1.00000000e+00]),\n",
       " <a list of 10 Patch objects>)"
      ]
     },
     "execution_count": 29,
     "metadata": {},
     "output_type": "execute_result"
    },
    {
     "data": {
      "image/png": "[encoded data removed]",
      "text/plain": [
       "<Figure size 432x288 with 1 Axes>"
      ]
     },
     "metadata": {},
     "output_type": "display_data"
    }
   ],
   "source": [
    "order_no = range(n)\n",
    "style_color = range(m)\n",
    "\n",
    "# assign a return rate to each product with mean the given parameters. This turns out to be hard might\n",
    "def get_truncated_normal(n=1, mean=0, sd=1, low=0, upp=1):\n",
    "    return truncnorm((low - mean) / sd, (upp - mean) / sd, loc=mean, scale=sd).rvs(n)\n",
    "\n",
    "return_rate = get_truncated_normal(m, mean=0.5, sd = 1)\n",
    "return_rate_multi = return_rate * 1.5\n",
    "return_rate_multi = np.minimum(return_rate_multi, 1)\n",
    "plt.hist(return_rate_multi)"
   ]
  },
  {
   "cell_type": "code",
   "execution_count": 30,
   "metadata": {},
   "outputs": [
    {
     "name": "stdout",
     "output_type": "stream",
     "text": [
      "The average return rate of a single product: 0.497424\n",
      "The standard derivation of return rate: 0.285258\n"
     ]
    }
   ],
   "source": [
    "print(\"The average return rate of a single product: %f\" % return_rate.mean())\n",
    "print(\"The standard derivation of return rate: %f\" % return_rate.std())"
   ]
  },
  {
   "cell_type": "code",
   "execution_count": 31,
   "metadata": {},
   "outputs": [
    {
     "name": "stdout",
     "output_type": "stream",
     "text": [
      "The average return rate of a product if included purchased multi times in a basket: 0.665980\n",
      "The corresponding standard derivation: 0.330548\n"
     ]
    }
   ],
   "source": [
    "print(\"The average return rate of a product if included purchased multi times in a basket: %f\" % return_rate_multi.mean())\n",
    "print(\"The corresponding standard derivation: %f\" % return_rate_multi.std())"
   ]
  },
  {
   "cell_type": "code",
   "execution_count": 32,
   "metadata": {},
   "outputs": [
    {
     "name": "stderr",
     "output_type": "stream",
     "text": [
      "/Users/yzhu/anaconda/envs/Pytho36/lib/python3.6/site-packages/ipykernel/__main__.py:5: DeprecationWarning: This function is deprecated. Please call randint(1, 10 + 1) instead\n"
     ]
    }
   ],
   "source": [
    "# generate purchas basket-product pair. This is done for each basket.\n",
    "np.random.seed(1)\n",
    "pair = list()\n",
    "for i in range(n):\n",
    "    num_purchase = np.random.random_integers(1, 10) # randomly select number of product to purhcase\n",
    "    products = np.random.choice(m, num_purchase, replace=False)\n",
    "    num_products = np.random.choice(range(1,4), num_purchase, replace=True, p=[0.6, 0.3, 0.1]) # for each product, randomly choose number of purchase\n",
    "    returns = np.stack([np.random.binomial(1, return_rate[products[j]] if num_products[j] == 1 else return_rate_multi[products[j]], 1)[0]\n",
    "                       for j in range(num_purchase)])\n",
    "    pair.append(np.vstack([np.repeat(i, num_purchase), products, num_products, returns]).T)\n",
    "\n",
    "pair = np.vstack(pair)\n",
    "h = sparse.coo_matrix((pair[:,2], (pair[:,0], pair[:,1])), shape=(n, m))\n",
    "r = sparse.coo_matrix((pair[:,3], (pair[:,0], pair[:,1])), shape=(n, m))"
   ]
  },
  {
   "cell_type": "code",
   "execution_count": 33,
   "metadata": {},
   "outputs": [],
   "source": [
    "h = h.tocsr()\n",
    "r = r.tocsr()"
   ]
  },
  {
   "cell_type": "code",
   "execution_count": 34,
   "metadata": {},
   "outputs": [],
   "source": [
    "with open(\"../data/order_no.pkl\", 'wb') as f:\n",
    "    pickle.dump(order_no, f)\n",
    "with open('../data/style_color.pkl', 'wb') as f:\n",
    "    pickle.dump(style_color, f)\n",
    "with open('../data/h_mat.pkl', 'wb') as f:\n",
    "    pickle.dump(h, f)\n",
    "with open('../data/r_mat.pkl', 'wb') as f:\n",
    "    pickle.dump(r, f)"
   ]
  },
  {
   "cell_type": "code",
   "execution_count": 35,
   "metadata": {},
   "outputs": [
    {
     "name": "stdout",
     "output_type": "stream",
     "text": [
      "number of returns over purchase: 57%\n"
     ]
    }
   ],
   "source": [
    "print(\"number of returns over purchase: {0:.0%}\".format(float(sum(pair[:,3]))/sum(pair[:,2]>0)))"
   ]
  },
  {
   "cell_type": "code",
   "execution_count": null,
   "metadata": {
    "collapsed": true
   },
   "outputs": [],
   "source": []
  },
  {
   "cell_type": "code",
   "execution_count": null,
   "metadata": {
    "collapsed": true
   },
   "outputs": [],
   "source": []
  }
 ],
 "metadata": {
  "kernelspec": {
   "display_name": "Python [conda env:Pytho36]",
   "language": "python",
   "name": "conda-env-Pytho36-py"
  },
  "language_info": {
   "codemirror_mode": {
    "name": "ipython",
    "version": 3
   },
   "file_extension": ".py",
   "mimetype": "text/x-python",
   "name": "python",
   "nbconvert_exporter": "python",
   "pygments_lexer": "ipython3",
   "version": "3.6.2"
  }
 },
 "nbformat": 4,
 "nbformat_minor": 2
}
