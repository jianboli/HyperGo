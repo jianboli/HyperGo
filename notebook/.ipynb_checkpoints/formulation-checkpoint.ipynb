{
 "cells": [
  {
   "cell_type": "markdown",
   "metadata": {},
   "source": [
    "# Random Walk on Hypergaph"
   ]
  },
  {
   "cell_type": "markdown",
   "metadata": {},
   "source": [
    "## Random walk defined by Dengyong Zhou"
   ]
  },
  {
   "cell_type": "markdown",
   "metadata": {},
   "source": [
    "The random walk is done in two step:\n",
    "1. Choose a hypteredge e over all hyperedges incodent with $u$ with the probability proportional to $w(e)$\n",
    "2. Choose a vertext $v\\in e$ uniformly at random\n",
    "The transaction probably matrix $P$ is then\n",
    "$$p(u,v)=\\sum_{e\\in E}w(e)\\frac{h(u,e)}{d(u)}\\frac{h(v,e)}{\\delta(e)},$$\n",
    "where for a vertex $v$\n",
    "$$d(v) = \\sum_{e\\in E|v\\in e}w(e)$$\n",
    "or\n",
    "$$d = HW$$\n",
    "and $\\delta(e)$ is the number of elements in the edge\n",
    "$$\\delta(e) = |e|$$\n",
    "or\n",
    "$$\\delta = \\mathbf{1}^TH$$\n",
    "In matrix notation, \n",
    "$$P=D_v^{-1}HWD_e^{-1}H^T$$\n",
    "\n",
    "We can validate the \n",
    "$$\\sum_v p(u,v)=\\sum_v\\sum_{e\\in E} w(e)\\frac{h(u,e)}{d(u)}\\frac{h(v,e)}{\\delta(e)}=\\sum_{e\\in E} w(e)\\frac{h(u,e)}{d(u)}\\sum_v\\frac{h(v,e)}{\\delta(e)}=1\\cdot1 = 1$$\n",
    "\n",
    "The stationary distrubtion $\\pi$ of the random walk is \n",
    "$$\\pi(v) = \\frac{d(v)}{\\mathrm{vol}V}$$\n",
    "This can be validated by \n",
    "$$\\sum_{u\\in V}\\pi(u)p(u,v)=\\sum_{u\\in V}\\frac{d(v)}{\\mathrm{vol}V}\\sum_{e\\in E}\\frac{h(u,e)}{d(u)}\\frac{h(v,e)}{\\delta(e)}=\\frac{1}{\\mathrm{vol}V}\\sum_{e\\in E}w(e)\\sum_{u\\in E}h(u,e)\\frac{h(v,e)}{\\delta e} = \\frac{1}{\\mathrm{vol V}}\\sum_{e\\in E}w(e)h(v,e)=\\frac{d(v)}{\\mathrm{vol}V}$$"
   ]
  },
  {
   "cell_type": "markdown",
   "metadata": {},
   "source": [
    "## Random walk in this work"
   ]
  },
  {
   "cell_type": "markdown",
   "metadata": {},
   "source": [
    "In this work, there are two differences:\n",
    "1. the $H$ is defined silightly different. The element of $H$ is defined as the number of sub-subclasses under the same basket and the hyperedge is defined on subclass. With such a definition, when a random walk is applied, it will have a higher probablity to go out or in an vertex with larger number of sub-subclasses.\n",
    "2. the random walk is a lazy random such that every step, it has 0.5 probability stay in the same vertex. For the transaction matrix defined in previous section \n",
    "$$p(u,u)=\\sum_{e\\in E}\\frac{h(u,e)}{d(u)}\\frac{h(u,e)}{\\delta(e)}=\\frac{1}{d(u)}\\sum_{e\\in E}\\frac{h^2(u,e)}{\\delta(e)}$$\n",
    "\n",
    "\n",
    "\n",
    "\n",
    "<!--\n",
    "\n",
    "To achieve this, the transaction probablilty matrix $P$ is then changed to:\n",
    "$$p(u,v)=\\sum_{e\\in E}\\frac{h(u,e)}{d(u)}\\frac{h(v,e)}{\\delta(e)},$$\n",
    "\n",
    "\n",
    "where for a vertex $v$\n",
    "$$d(v) = \\sum_{e\\in E|v\\in e}w(e)$$\n",
    "and $\\delta(e)$ is the number of elements in the edge\n",
    "$$\\delta{e} = |e|$$\n",
    "In matrix notation, \n",
    "$$P=D_v^{-1}HWD_e^{-1}H^T$$\n",
    "\n",
    "\n",
    "The stationary distrubtion $\\pi$ of the random walk is \n",
    "$$\\pi(v) = \\frac{d(v)}{\\mathrm{vol}V}$$\n",
    "This can be validated by \n",
    "$$\\sum_{u\\in V}\\pi(u)p(u,v)=\\sum_{u\\in V}\\frac{d(v)}{\\mathrm{vol}V}\\sum_{e\\in E}\\frac{h(u,e)}{d(u)}\\frac{h(v,e)}{\\delta(e)}=\\frac{1}{\\mathrm{vol}V}\\sum_{e\\in E}w(e)\\sum_{u\\in E}h(u,e)\\frac{h(v,e)}{\\delta e} = \\frac{1}{\\mathrm{vol V}}\\sum_{e\\in E}w(e)h(v,e)=\\frac{d(v)}{\\mathrm{vol}V}$$\n",
    "-->"
   ]
  },
  {
   "cell_type": "markdown",
   "metadata": {
    "collapsed": true
   },
   "source": [
    "## Questions"
   ]
  },
  {
   "cell_type": "markdown",
   "metadata": {
    "collapsed": true
   },
   "source": [
    "1. A higher wight does not seem to correctly reflect the impact of duplicated case. It simply emphysis these cases\n",
    "2. Should we still pursue the lazy random walk?"
   ]
  }
 ],
 "metadata": {
  "kernelspec": {
   "display_name": "Python 3",
   "language": "python",
   "name": "python3"
  },
  "language_info": {
   "codemirror_mode": {
    "name": "ipython",
    "version": 3
   },
   "file_extension": ".py",
   "mimetype": "text/x-python",
   "name": "python",
   "nbconvert_exporter": "python",
   "pygments_lexer": "ipython3",
   "version": "3.6.3"
  },
  "widgets": {
   "state": {},
   "version": "1.1.1"
  }
 },
 "nbformat": 4,
 "nbformat_minor": 2
}
